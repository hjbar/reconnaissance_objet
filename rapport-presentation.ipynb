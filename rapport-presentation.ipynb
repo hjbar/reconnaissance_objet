{
 "cells": [
  {
   "cell_type": "markdown",
   "id": "7fcb0e74",
   "metadata": {
    "slideshow": {
     "slide_type": "slide"
    }
   },
   "source": [
    "# Classification de ballons de football et de rugby\n",
    "\n",
    "- Binôme: Hugo, Barreiro, Ahmed, Atmane\n",
    "- Adresses mails: hugo.barreiro@universite-paris-saclay.fr / ahmed.atmane@universite-paris-saclay.fr\n",
    "- [Dépôt GitLab](https://gitlab.dsi.universite-paris-saclay.fr/hugo.barreiro/L1InfoInitiationScienceDonnees-Semaine8)"
   ]
  },
  {
   "cell_type": "markdown",
   "id": "4e0bce73",
   "metadata": {},
   "source": [
    "Importation des différentes bibliotèques :"
   ]
  },
  {
   "cell_type": "code",
   "execution_count": null,
   "id": "b78a7904",
   "metadata": {},
   "outputs": [],
   "source": [
    "import os, re\n",
    "from glob import glob as ls\n",
    "from PIL import Image\n",
    "import numpy as np\n",
    "import matplotlib.pyplot as plt\n",
    "%matplotlib inline\n",
    "import pandas as pd\n",
    "import seaborn as sns; sns.set()\n",
    "from PIL import Image\n",
    "%load_ext autoreload\n",
    "%autoreload 2\n",
    "import warnings\n",
    "warnings.filterwarnings(\"ignore\")\n",
    "from sys import path\n",
    "\n",
    "from utilities import *\n",
    "from intro_science_donnees import data\n",
    "from intro_science_donnees import *"
   ]
  },
  {
   "cell_type": "markdown",
   "id": "ec6e8f08",
   "metadata": {
    "slideshow": {
     "slide_type": "slide"
    }
   },
   "source": [
    "## Jeu de données"
   ]
  },
  {
   "cell_type": "markdown",
   "id": "e801d9ba",
   "metadata": {},
   "source": [
    "Chargement du jeu de données :"
   ]
  },
  {
   "cell_type": "code",
   "execution_count": null,
   "id": "671fa9e7",
   "metadata": {},
   "outputs": [],
   "source": [
    "dataset_dir = 'data'\n",
    "images = load_images(dataset_dir, \"*.png\")"
   ]
  },
  {
   "cell_type": "markdown",
   "id": "3d04faf6",
   "metadata": {},
   "source": [
    "Visualisation du jeu de données :"
   ]
  },
  {
   "cell_type": "code",
   "execution_count": null,
   "id": "db20a282",
   "metadata": {},
   "outputs": [],
   "source": [
    "image_grid(images)"
   ]
  },
  {
   "cell_type": "markdown",
   "id": "4965f680",
   "metadata": {
    "slideshow": {
     "slide_type": "slide"
    }
   },
   "source": [
    "## Prétraitement"
   ]
  },
  {
   "cell_type": "markdown",
   "id": "c94521c7",
   "metadata": {},
   "source": [
    "Nous allons prétraiter les images de notre jeu de données."
   ]
  },
  {
   "cell_type": "markdown",
   "id": "d3b12cd0",
   "metadata": {},
   "source": [
    "Pour ce faire nous allons créer une liste python pour ajouter au fur et à mesure nos nouvelles images. On la transformera en Series Pandas afin de créer un DataFrame."
   ]
  },
  {
   "cell_type": "markdown",
   "id": "7b1f3221",
   "metadata": {},
   "source": [
    "Pour chaque image, nous allons appliquer un filtre de couleur, c'est-à-dire que l'on va récupérer un tableau en dimension 32x32 représentant une image en noir et blanc. Sur cette image, les zones blanches représenteront les zones où la couleur en question sera la plus forte, les zones noires représenteront les zones où la couleur en question sera la plus faible."
   ]
  },
  {
   "cell_type": "markdown",
   "id": "1db5c630",
   "metadata": {},
   "source": [
    "Ensuite, grâce à ces tableaux 32x32 nous pourrons créer des nouveaux tableaux en dimension 32x32x4. Pour ce faire, nous allons regarder pour chaque pixel des tableaux 32x32 si sa valeur est strictement supérieur à un taux fixé. Si c'est le cas, alors on fixe la couche RGBA à 255, 255, 255, 255 pour les tableaux 32x32x4. Sinon, on la fixe à 0, 0, 0, 0. Ainsi, nous pourrons récupérer des images où les objets seront en blanc alors que le fond sera transparent."
   ]
  },
  {
   "cell_type": "code",
   "execution_count": null,
   "id": "cbfe2e08",
   "metadata": {},
   "outputs": [],
   "source": [
    "#Création de la liste d'images prétraitées\n",
    "images_clean = []\n",
    "\n",
    "\n",
    "#Pink\n",
    "images_clean.append(foreground_filter_taux(pinkness_filter(images[0]), 40))\n",
    "images_clean.append(foreground_filter_taux(pinkness_filter(images[1]), 40))\n",
    "images_clean.append(foreground_filter_taux(pinkness_filter(images[2]), 50))\n",
    "images_clean.append(foreground_filter_taux(pinkness_filter(images[3]), 50))\n",
    "\n",
    "#Yellow\n",
    "images_clean.append(foreground_filter_taux(yellowness_filter(images[4]), 235))\n",
    "images_clean.append(foreground_filter_taux(yellowness_filter(images[5]), 235))\n",
    "images_clean.append(foreground_filter_taux(yellowness_filter(images[6]), 235))\n",
    "images_clean.append(foreground_filter_taux(yellowness_filter(images[7]), 250))\n",
    "images_clean.append(foreground_filter_taux(yellowness_filter(images[8]), 275))\n",
    "\n",
    "#Green\n",
    "images_clean.append(foreground_filter_taux(greenness_filter(images[9]), -125))\n",
    "\n",
    "#Orange\n",
    "images_clean.append(foreground_filter_taux(orangeness_filter(images[10]), -75))\n",
    "\n",
    "#Brown\n",
    "images_clean.append(foreground_filter_taux(brownness_filter(images[11]), -105))\n",
    "\n",
    "#Orange\n",
    "images_clean.append(foreground_filter_taux(orangeness_filter(images[12]), -25))\n",
    "images_clean.append(foreground_filter_taux(orangeness_filter(images[13]), -50))\n",
    "images_clean.append(foreground_filter_taux(orangeness_filter(images[14]), 15))\n",
    "images_clean.append(foreground_filter_taux(orangeness_filter(images[15]), -40))\n",
    "images_clean.append(foreground_filter_taux(orangeness_filter(images[16]), -50))\n",
    "\n",
    "#Brown\n",
    "images_clean.append(foreground_filter_taux(brownness_filter(images[17]), -20))\n",
    "\n",
    "#Green\n",
    "images_clean.append(foreground_filter_taux(greenness_filter(images[18]), -175))\n",
    "\n",
    "#White\n",
    "images_clean.append(foreground_filter_taux(whiteness_filter(images[19]), 325))\n",
    "\n",
    "\n",
    "#Création d'une Series Pandas à partir de la liste python d'images prétraitées\n",
    "images_clean = pd.Series(images_clean, copy=True)\n",
    "\n",
    "\n",
    "#Visualisation\n",
    "image_grid(images_clean)"
   ]
  },
  {
   "cell_type": "markdown",
   "id": "270f2187",
   "metadata": {},
   "source": [
    "Nous allons maintenant créer un DataFrame afin de traiter les images et classer :"
   ]
  },
  {
   "cell_type": "code",
   "execution_count": null,
   "id": "6bf5b1cd",
   "metadata": {},
   "outputs": [],
   "source": [
    "columns = ['Elongation', 'Matched_filter', 'Class']\n",
    "\n",
    "index = images.index\n",
    "\n",
    "liste_Elongation = [elongation_matrice(img) for img in images_clean]\n",
    "liste_MF = [matched_filter_matrice(img, images_clean) for img in images_clean]\n",
    "liste_Class = [1 for i in range(10)] + [-1 for i in range(10)]\n",
    "\n",
    "data = {'Elongation' : liste_Elongation, 'Matched_filter' : liste_MF, 'Class' : liste_Class}\n",
    "\n",
    "df= pd.DataFrame(data=data, index=index, columns=columns)\n",
    "df"
   ]
  },
  {
   "cell_type": "markdown",
   "id": "4effb273",
   "metadata": {},
   "source": [
    "Nous allons à présent standariser le DataFrame afin d'étudier et analyser correctement les données."
   ]
  },
  {
   "cell_type": "code",
   "execution_count": null,
   "id": "174943e8",
   "metadata": {},
   "outputs": [],
   "source": [
    "dfstd = (df - df.mean()) / df.std()\n",
    "dfstd[\"Class\"] = df[\"Class\"]\n",
    "dfstd"
   ]
  },
  {
   "cell_type": "markdown",
   "id": "5a871b24",
   "metadata": {
    "slideshow": {
     "slide_type": "slide"
    }
   },
   "source": [
    "## Visualisation des données"
   ]
  },
  {
   "cell_type": "markdown",
   "id": "3798ea4d",
   "metadata": {},
   "source": [
    "Affichons les statistiques de notre DataFrame :"
   ]
  },
  {
   "cell_type": "code",
   "execution_count": null,
   "id": "a1b65df8",
   "metadata": {},
   "outputs": [],
   "source": [
    "dfstd.describe()"
   ]
  },
  {
   "cell_type": "markdown",
   "id": "391ff77b",
   "metadata": {},
   "source": [
    "Nous remarquons que la table est bien standarisée : l'écart-type est de 1 et la moyenne est de 0."
   ]
  },
  {
   "cell_type": "markdown",
   "id": "16393db0",
   "metadata": {},
   "source": [
    "Affichons une carte de chaleur afin de mieux visualiser nos données :"
   ]
  },
  {
   "cell_type": "code",
   "execution_count": null,
   "id": "5e219f70",
   "metadata": {},
   "outputs": [],
   "source": [
    "dfstd.style.background_gradient(cmap='coolwarm')"
   ]
  },
  {
   "cell_type": "markdown",
   "id": "2299273b",
   "metadata": {},
   "source": [
    "On remarque que le Matched_Filter n'a pas correctement fonctionné sur 2 images et que l'Elongation n'a pas donné un résultat satisfaisant pour 1 image."
   ]
  },
  {
   "cell_type": "markdown",
   "id": "aaaf1914",
   "metadata": {},
   "source": [
    "Affichons la matrice de corrélation sous forme de carte de chaleur :"
   ]
  },
  {
   "cell_type": "code",
   "execution_count": null,
   "id": "27fe3f1c",
   "metadata": {},
   "outputs": [],
   "source": [
    "dfstd.corr().style.background_gradient(cmap='coolwarm')"
   ]
  },
  {
   "cell_type": "markdown",
   "id": "4cec0a28",
   "metadata": {},
   "source": [
    "On remarque que l'élongation corrèle plus avec les ballons de rugby et que le matched_filter corrèle plus avec les ballons de football."
   ]
  },
  {
   "cell_type": "markdown",
   "id": "11bd9cc1",
   "metadata": {},
   "source": [
    "Regardons si nos données sont bien réparties grâce aux différents attributs :"
   ]
  },
  {
   "cell_type": "code",
   "execution_count": null,
   "id": "2088768a",
   "metadata": {},
   "outputs": [],
   "source": [
    "make_scatter_plot(dfstd, images_clean, axis='square')"
   ]
  },
  {
   "cell_type": "markdown",
   "id": "6acb7afa",
   "metadata": {},
   "source": [
    "Avec les images prétraitées, nous ne voyons pas grand chose."
   ]
  },
  {
   "cell_type": "markdown",
   "id": "5dcc464a",
   "metadata": {},
   "source": [
    "Affichons la répartition avec les images de base :"
   ]
  },
  {
   "cell_type": "code",
   "execution_count": null,
   "id": "fba901e1",
   "metadata": {},
   "outputs": [],
   "source": [
    "make_scatter_plot(dfstd, images, axis='square')"
   ]
  },
  {
   "cell_type": "markdown",
   "id": "26c14374",
   "metadata": {},
   "source": [
    "La plupart des ballons de football et de rugby sont correctement répartis. Néanmoins, 2 ballons de football et 1 ballon de rugby ne sont pas correctement répartis (Cela correspond en effet aux erreurs détectés lors de la visualisation des données). Des erreurs risques de se produire lors de la classification."
   ]
  },
  {
   "cell_type": "markdown",
   "id": "1cbbd130",
   "metadata": {
    "slideshow": {
     "slide_type": "slide"
    }
   },
   "source": [
    "## Classificateurs favoris"
   ]
  },
  {
   "cell_type": "markdown",
   "id": "5f40bc9d",
   "metadata": {},
   "source": [
    "Nous allons tester plusieurs classificateurs différents, utilisant des méthodes de classification différentes afin de trouver celui qui fonctionne le mieux avec nos données."
   ]
  },
  {
   "cell_type": "code",
   "execution_count": null,
   "id": "de35987c",
   "metadata": {},
   "outputs": [],
   "source": [
    "from sklearn.neural_network import MLPClassifier\n",
    "from sklearn.neighbors import KNeighborsClassifier\n",
    "from sklearn.svm import SVC\n",
    "from sklearn.gaussian_process import GaussianProcessClassifier\n",
    "from sklearn.gaussian_process.kernels import RBF\n",
    "from sklearn.tree import DecisionTreeClassifier\n",
    "from sklearn.ensemble import RandomForestClassifier, AdaBoostClassifier\n",
    "from sklearn.naive_bayes import GaussianNB\n",
    "from sklearn.discriminant_analysis import QuadraticDiscriminantAnalysis\n",
    "\n",
    "model_name = [\"Nearest Neighbors\", \"Linear SVM\", \"RBF SVM\", \"Gaussian Process\",\n",
    "         \"Decision Tree\", \"Random Forest\", \"Neural Net\", \"AdaBoost\",\n",
    "         \"Naive Bayes\", \"QDA\"]\n",
    "model_list = [\n",
    "    KNeighborsClassifier(1),\n",
    "    SVC(kernel=\"linear\", C=0.025, probability=True),\n",
    "    SVC(gamma=2, C=1, probability=True),\n",
    "    GaussianProcessClassifier(1.0 * RBF(1.0)),\n",
    "    DecisionTreeClassifier(max_depth=10),\n",
    "    RandomForestClassifier(max_depth=10, n_estimators=10, max_features=1),\n",
    "    MLPClassifier(alpha=1, max_iter=1000),\n",
    "    AdaBoostClassifier(),\n",
    "    GaussianNB(),\n",
    "    QuadraticDiscriminantAnalysis()]"
   ]
  },
  {
   "cell_type": "markdown",
   "id": "d5b167c3",
   "metadata": {},
   "source": [
    "Affichons les résultats :"
   ]
  },
  {
   "cell_type": "code",
   "execution_count": null,
   "id": "c17e9d8c",
   "metadata": {},
   "outputs": [],
   "source": [
    "from sklearn.metrics import balanced_accuracy_score as sklearn_metric\n",
    "compar_results = systematic_model_experiment(df, model_name, model_list, sklearn_metric)\n",
    "compar_results.style.set_precision(2).background_gradient(cmap='Blues')"
   ]
  },
  {
   "cell_type": "markdown",
   "id": "6c5fe8eb",
   "metadata": {},
   "source": [
    "Affichons les résultats de manière plus visuel :"
   ]
  },
  {
   "cell_type": "code",
   "execution_count": null,
   "id": "efb74da2",
   "metadata": {},
   "outputs": [],
   "source": [
    "compar_results[['perf_tr', 'perf_te']].plot.bar()\n",
    "plt.ylim(0.5, 1)\n",
    "plt.ylabel(sklearn_metric.__name__);"
   ]
  },
  {
   "cell_type": "markdown",
   "id": "eba51966",
   "metadata": {},
   "source": [
    "Nous remarquons que tous les classificateurs nous donne d'excellents résultats."
   ]
  },
  {
   "cell_type": "markdown",
   "id": "5c7c2227",
   "metadata": {},
   "source": [
    "Regardons quel est le plus efficace :"
   ]
  },
  {
   "cell_type": "code",
   "execution_count": null,
   "id": "0812e2ae",
   "metadata": {},
   "outputs": [],
   "source": [
    "model_list[compar_results.perf_te.argmax()]"
   ]
  },
  {
   "cell_type": "markdown",
   "id": "30a17b82",
   "metadata": {},
   "source": [
    "Le Knn est le meilleur classificateur dans notre configuration."
   ]
  },
  {
   "cell_type": "markdown",
   "id": "05ac71d6",
   "metadata": {},
   "source": [
    "Nous avons décidé d'utiliser qu'un seul voisin car après des tests pour plusieurs valeurs, c'est celle là qui obtenait les meilleurs résultats."
   ]
  },
  {
   "cell_type": "markdown",
   "id": "64403379",
   "metadata": {
    "slideshow": {
     "slide_type": "slide"
    }
   },
   "source": [
    "## Résultats\n",
    "\n",
    "### Observations"
   ]
  },
  {
   "cell_type": "markdown",
   "id": "b8e6091c",
   "metadata": {},
   "source": [
    "Nous allons à présent observer les résultats obtenus."
   ]
  },
  {
   "cell_type": "markdown",
   "id": "a85fea03",
   "metadata": {},
   "source": [
    "Nous remarquons qu'avec le Knn nous obtenons un taux de réussite de 94% avec un taux d'erreur de 7%. Ce qui est un résultat plus que satisfaisant à notre niveau."
   ]
  },
  {
   "cell_type": "markdown",
   "id": "8c342a91",
   "metadata": {},
   "source": [
    "En effet, classifier notre jeu de données pouvaient de montrer un peu compliqué. Une balle de rugby vu de face ressemble grandement à une balle de football. Enlever le fond de certaines images pouvait être délicat : fond non-uni, ombres, perspectives, accessoires par exemple."
   ]
  },
  {
   "cell_type": "markdown",
   "id": "1ca5089e",
   "metadata": {},
   "source": [
    "On observe 2 erreurs sur le matched_filter : 2 ballons de football sont confondus avec des ballons de rugby.\n",
    "\n",
    "On observe 1 résultat non-désiré sur l'élongation : 1 ballon de rugby n'est pas allongé."
   ]
  },
  {
   "cell_type": "markdown",
   "id": "57abb05c",
   "metadata": {},
   "source": [
    "### Interprétations"
   ]
  },
  {
   "cell_type": "markdown",
   "id": "9eb28e89",
   "metadata": {},
   "source": [
    "Le Knn est surement plus efficace avec un seul voisin puisque les ballons de football mals répartis devaient être identifiés en ballons de rugby avec plus de voisins. En effet, ils sont plus proches de balles de rugby que des balles de football."
   ]
  },
  {
   "cell_type": "markdown",
   "id": "00c45b1a",
   "metadata": {},
   "source": [
    "Les erreurs du matched_filter sont probablement du au prétraitement des 2 ballons de football en question : En effet, les motifs assez présent sur les balles n'ont pas été pris en compte dans l'image finale. Ainsi, leur forme n'était pas parfaitement ronde."
   ]
  },
  {
   "cell_type": "markdown",
   "id": "4c55c843",
   "metadata": {},
   "source": [
    "Le résultat non désiré pour l'élongation est probablement du à la forme assez ronde du ballon de rugby vu de face. Ainsi, ne voyant pas le côté du ballon, on dirait que celui-ci est rond et donc non allongé."
   ]
  },
  {
   "cell_type": "markdown",
   "id": "e11e0c21",
   "metadata": {
    "slideshow": {
     "slide_type": "slide"
    }
   },
   "source": [
    "## Discussion"
   ]
  },
  {
   "cell_type": "markdown",
   "id": "967dc4d4",
   "metadata": {},
   "source": [
    "Nos données peuvent potentiellement comporter des biais."
   ]
  },
  {
   "cell_type": "markdown",
   "id": "0bbc9f48",
   "metadata": {},
   "source": [
    "En effet, plusieurs ballons sont de la même couleur : rose, jaune, marron ou orange. Cela peut poser problème si l'on s'était basé sur la couleur des balles pour les classer. Ce n'est pas le cas, ainsi ce biai ne devrait pas impacter notre jeu de données."
   ]
  },
  {
   "cell_type": "markdown",
   "id": "c9d2ed1c",
   "metadata": {},
   "source": [
    "Ensuite, nous avons peut-être négliger des positions potentielles pour les ballons de rugby ou de football. Ce biai peut nous impacter car on utilise matched_filter. Avoir différentes positions impacte le template. Si des positions ont été occultées, alors le template n'est pas totalement représentatif. De plus, si certaines positions sont sur-représenter alors le template n'est également pas totalement représentatif. Ce biai doit nous impacter puisque certaines positions de balles de rugby sont plus représentées que d'autres."
   ]
  },
  {
   "cell_type": "markdown",
   "id": "891ad245",
   "metadata": {},
   "source": [
    "Enfin, un dernier biai nous concerne au niveau de l'élongation. On est parti du principe qu'un ballon de rugby est allongé. Ce n'est pas forcément le cas sous tous les angles. En effet, vu de face la balle de rugby est ronde. Un biai est donc présent dans notre analyse."
   ]
  },
  {
   "cell_type": "markdown",
   "id": "ec13f432",
   "metadata": {},
   "source": [
    "Notre méthode de prétraitement n'est pas appliquable telle quelle sur un jeu de données largement plus grand. En effet, nous appliquons un prétraitement personnalisé à chaque balle en fonction de sa couleur. Or, si un jeu de données possède 50, 100 ou encore 1000 images, nous ne pouvons pas appliqué un prétraitement personnalisé pour chaque image comme nous l'avons fait."
   ]
  },
  {
   "cell_type": "markdown",
   "id": "039e5e32",
   "metadata": {},
   "source": [
    "Pour remédier à ce problème nous pourrions imaginer une fonction qui calcul le taux de couleur d'une image pour plusieurs couleurs et qui renvoie quelle est la couleur la présente dans l'image. Les images étant bien centrée sur la balle, la couleur caractéristique du ballon sera la plus présente. Enfin, sachant la couleur la plus présente, donc celle de la balle, nous pourrions appeler le filtre de couleur adapté pour chaque image. Pour ce qui est du taux pour le foreground_filter nous pourrions tester plusieurs valeurs et choisir une valeur moyenne qui convienne à un près pour chaque image."
   ]
  },
  {
   "cell_type": "markdown",
   "id": "531261db",
   "metadata": {},
   "source": [
    "Nous avons rencontrés des problèmes notamment par rapport au format des images, des différentes couches RGBA et également pour extraire correctement les ballons du fond."
   ]
  },
  {
   "cell_type": "markdown",
   "id": "aba1107f",
   "metadata": {},
   "source": [
    "Les images étant au format JPG elles ne disposaient pas de couche de transparence. Ainsi, nous avons du la rajouter lors du traitement des images afin d'utiliser correctement différentes fonctions comme élongation qui se base grandement sur la couche de transparence."
   ]
  },
  {
   "cell_type": "markdown",
   "id": "4d0aecbd",
   "metadata": {},
   "source": [
    "Pour extraire les ballons du fond, nous avons du coder plusieurs fonctions de filtre pour les différentes couleurs et ensuite tester différentes valeurs pour le taux afin d'extraire correctement les objets. Ceci est un peu laborieux mais on à finalement réussi à s'en sortir."
   ]
  },
  {
   "cell_type": "markdown",
   "id": "a7bf871c",
   "metadata": {},
   "source": [
    "## Conclusion"
   ]
  },
  {
   "cell_type": "markdown",
   "id": "ef8b7cb5",
   "metadata": {},
   "source": [
    "Pour conclure, ce projet de classification de ballons de football et de rugby nous a permis d'apprendre à extraire des objets de fonds non-uni, avec des ombres, de la perspective et des accessoirs afin de classer nos images."
   ]
  },
  {
   "cell_type": "markdown",
   "id": "fe8e13fc",
   "metadata": {},
   "source": [
    "Cela nous a également appris à manier les images avec différents format et couches internes."
   ]
  },
  {
   "cell_type": "markdown",
   "id": "56c609b4",
   "metadata": {},
   "source": [
    "Enfin, ce projet et cette UE de manière générale nous ont appris à s'informer, à trouver des solutions par nous-mêmes et à travailler en autonomie mais également en équipe."
   ]
  }
 ],
 "metadata": {
  "jupytext": {
   "notebook_metadata_filter": "rise",
   "text_representation": {
    "extension": ".md",
    "format_name": "myst",
    "format_version": 0.13,
    "jupytext_version": "1.14.5"
   }
  },
  "kernelspec": {
   "display_name": "Python 3 (ipykernel)",
   "language": "python",
   "name": "python3"
  },
  "rise": {
   "auto_select": "first",
   "autolaunch": false,
   "backimage": "fond.png",
   "centered": false,
   "controls": false,
   "enable_chalkboard": true,
   "height": "100%",
   "margin": 0,
   "maxScale": 1,
   "minScale": 1,
   "scroll": true,
   "slideNumber": true,
   "start_slideshow_at": "selected",
   "transition": "none",
   "width": "90%"
  }
 },
 "nbformat": 4,
 "nbformat_minor": 5
}
